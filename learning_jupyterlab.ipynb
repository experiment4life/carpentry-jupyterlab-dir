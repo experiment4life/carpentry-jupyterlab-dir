{
 "cells": [
  {
   "cell_type": "code",
   "execution_count": 1,
   "id": "85a57db3-ef91-4e24-a36c-86a6ca4c54b7",
   "metadata": {},
   "outputs": [],
   "source": [
    "a = 2\n",
    "b = 3"
   ]
  },
  {
   "cell_type": "code",
   "execution_count": 2,
   "id": "2b36b6fd-bbad-48bd-b078-69d477c11032",
   "metadata": {
    "tags": []
   },
   "outputs": [],
   "source": [
    "c = a + b"
   ]
  },
  {
   "cell_type": "code",
   "execution_count": 3,
   "id": "5db74d1a-7323-408c-845f-97eb1db34c79",
   "metadata": {},
   "outputs": [
    {
     "name": "stdout",
     "output_type": "stream",
     "text": [
      "5\n"
     ]
    }
   ],
   "source": [
    "print(c)"
   ]
  },
  {
   "cell_type": "markdown",
   "id": "a348e022-9c7e-475a-a086-52281a0ccaef",
   "metadata": {},
   "source": [
    "this is markdown text"
   ]
  },
  {
   "cell_type": "markdown",
   "id": "c4cf6bde-f707-40f8-9b32-0e4d71360417",
   "metadata": {},
   "source": [
    "this is my next line,\n",
    "plus one,\n",
    "plus two."
   ]
  },
  {
   "cell_type": "markdown",
   "id": "35582d66-8c7a-492d-8eab-342316b9b904",
   "metadata": {},
   "source": [
    "* item 1\n",
    "* item 2\n",
    "* item 3"
   ]
  },
  {
   "cell_type": "markdown",
   "id": "5ec0d48b-973d-48a0-bc2a-b6fc5fdb6b17",
   "metadata": {},
   "source": [
    "1. item first\n",
    "1. item second\n",
    "1. item third"
   ]
  },
  {
   "cell_type": "markdown",
   "id": "b8f8b1da-5520-4edd-bc0b-ac4eb900a48c",
   "metadata": {},
   "source": [
    "* to create a sublist \n",
    "    * item one\n",
    "    * item two\n",
    "    * item three\n",
    "    \n",
    "* another sub list\n",
    "    1. item one\n",
    "    2. item two"
   ]
  },
  {
   "cell_type": "markdown",
   "id": "546702f4-2ec7-4eb7-a433-41a67927f59e",
   "metadata": {},
   "source": [
    "# A Level1 Heading"
   ]
  },
  {
   "cell_type": "markdown",
   "id": "4f64e8ed-aee6-43e7-adfd-9d4672a2e051",
   "metadata": {},
   "source": [
    "## A level2 Heading"
   ]
  },
  {
   "cell_type": "markdown",
   "id": "54015af0-f2d9-4faf-a7e1-0a4c6a1a7868",
   "metadata": {},
   "source": [
    "line breaks \n",
    "don't matter.\n",
    "\n",
    "But blank lines make new paragraphs\n"
   ]
  },
  {
   "cell_type": "markdown",
   "id": "e11ca224-7387-4b1f-a49e-79a0720cd5d0",
   "metadata": {},
   "source": [
    "[create links] (http://software-carpentry.org)  "
   ]
  },
  {
   "cell_type": "markdown",
   "id": "450a8d21-d89e-4c19-868a-4d8b97c56e27",
   "metadata": {},
   "source": [
    "[data carpentry]: http://datacarpentry.org"
   ]
  },
  {
   "cell_type": "markdown",
   "id": "ddc8dbbd-7c45-4fe6-a7ac-f8006eb42a3f",
   "metadata": {},
   "source": [
    "1. Get funding\n",
    "1. Do work.\n",
    "    * Design experiment\n",
    "    * Collect data\n",
    "    * Analyze data\n",
    "1. Write up\n",
    "1. Publish"
   ]
  },
  {
   "cell_type": "code",
   "execution_count": 4,
   "id": "0586159a-89a3-4c80-9e32-7291e9983934",
   "metadata": {},
   "outputs": [
    {
     "data": {
      "text/plain": [
       "3"
      ]
     },
     "execution_count": 4,
     "metadata": {},
     "output_type": "execute_result"
    }
   ],
   "source": [
    "7 * 3\n",
    "2 +  1"
   ]
  },
  {
   "cell_type": "markdown",
   "id": "ec23036c-668b-4470-bd97-483e4625b9a5",
   "metadata": {},
   "source": [
    "x = 6 * 7 + 12\n",
    "print(x)"
   ]
  },
  {
   "cell_type": "markdown",
   "id": "7933a24f-7fc4-4ae3-87bd-c89cb4f49a8c",
   "metadata": {},
   "source": [
    "$\\sum_{i=1}^{N} 2^{-i} \\approx 1$"
   ]
  },
  {
   "cell_type": "code",
   "execution_count": null,
   "id": "89723d86-c05e-4957-9043-21d6f81f0cfe",
   "metadata": {},
   "outputs": [],
   "source": []
  },
  {
   "cell_type": "code",
   "execution_count": 10,
   "id": "a0b2cbbe-e6cd-446e-8a50-8aec3b03f459",
   "metadata": {},
   "outputs": [
    {
     "name": "stdout",
     "output_type": "stream",
     "text": [
      "atom_name is : carbon\n"
     ]
    }
   ],
   "source": [
    "atom_name =\"carbon\"\n",
    "print(\"atom_name is :\",atom_name[0:6])"
   ]
  },
  {
   "cell_type": "code",
   "execution_count": 11,
   "id": "455f9e9d-eb3c-467d-badf-09015614778c",
   "metadata": {},
   "outputs": [
    {
     "data": {
      "text/plain": [
       "40.5"
      ]
     },
     "execution_count": 11,
     "metadata": {},
     "output_type": "execute_result"
    }
   ],
   "source": [
    "# we can add floats to itegers\n",
    "\n",
    "this_is_a_float = 34.5\n",
    "this_is_an_int = 6\n",
    "this_is_a_float + this_is_an_int"
   ]
  },
  {
   "cell_type": "code",
   "execution_count": null,
   "id": "46bbe7bc-9859-43c8-8fd8-a4dbeab48595",
   "metadata": {},
   "outputs": [],
   "source": [
    "# Variables must have values assigned to them (we must change it)\n",
    "# they overwrote each other "
   ]
  },
  {
   "cell_type": "code",
   "execution_count": 12,
   "id": "2f7107ea-24bf-4c3a-881e-0fe1c63b3ea4",
   "metadata": {},
   "outputs": [
    {
     "name": "stdout",
     "output_type": "stream",
     "text": [
      "c\n",
      "tin\n",
      "2\n",
      "4\n"
     ]
    }
   ],
   "source": [
    "easy_string =\"abc\"\n",
    "rich = \"gold\"\n",
    "poor = \"tin\"\n",
    "number_two_str = \"2\"\n",
    "\n",
    "print(max(easy_string))\n",
    "print(max(rich, poor, number_two_str))\n",
    "print(min(rich, poor, number_two_str))\n",
    "print(max(len(rich), len(poor)))\n",
    "\n"
   ]
  },
  {
   "cell_type": "code",
   "execution_count": 14,
   "id": "3577beca-1d2b-47a4-a7cb-728a3d675f0b",
   "metadata": {},
   "outputs": [
    {
     "name": "stdout",
     "output_type": "stream",
     "text": [
      "0\n"
     ]
    }
   ],
   "source": [
    "import math\n",
    "import random\n",
    "\n",
    "base =(\"TATTAGCTTA\")\n",
    "print(random.randrange(0,len(base)))\n",
    "\n",
    "\n"
   ]
  },
  {
   "cell_type": "code",
   "execution_count": 17,
   "id": "fcadeb7a-53f6-4a51-af09-7a36dcf7073c",
   "metadata": {},
   "outputs": [
    {
     "name": "stdout",
     "output_type": "stream",
     "text": [
      "random base  A base index 11\n"
     ]
    }
   ],
   "source": [
    "\n",
    "import math\n",
    "import random\n",
    "\n",
    "bases=\"ACTTGCTTGAC\"\n",
    "n_bases = len(bases)\n",
    "fred = random.randrange(n_bases)\n",
    "print(\"random base \", bases[fred], \"base index\", n_bases)\n"
   ]
  },
  {
   "cell_type": "code",
   "execution_count": null,
   "id": "541ee4a1-e884-4c03-b6aa-dba4d0e2df2f",
   "metadata": {},
   "outputs": [],
   "source": []
  },
  {
   "cell_type": "code",
   "execution_count": null,
   "id": "5f766042-e03c-404b-ad37-0c2dd19745d3",
   "metadata": {},
   "outputs": [],
   "source": []
  },
  {
   "cell_type": "code",
   "execution_count": null,
   "id": "6269288b-a2ee-4ecd-95e9-c43124a0860e",
   "metadata": {},
   "outputs": [],
   "source": []
  }
 ],
 "metadata": {
  "kernelspec": {
   "display_name": "Python 3 (ipykernel)",
   "language": "python",
   "name": "python3"
  },
  "language_info": {
   "codemirror_mode": {
    "name": "ipython",
    "version": 3
   },
   "file_extension": ".py",
   "mimetype": "text/x-python",
   "name": "python",
   "nbconvert_exporter": "python",
   "pygments_lexer": "ipython3",
   "version": "3.8.10"
  }
 },
 "nbformat": 4,
 "nbformat_minor": 5
}
