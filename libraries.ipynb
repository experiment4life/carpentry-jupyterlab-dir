{
 "cells": [
  {
   "cell_type": "code",
   "execution_count": 2,
   "id": "ca8b33f8-03af-4b30-8a57-f1a8213abe04",
   "metadata": {},
   "outputs": [
    {
     "name": "stdout",
     "output_type": "stream",
     "text": [
      "pi is 3.141592653589793\n",
      "cos(pi) is  -1.0\n"
     ]
    }
   ],
   "source": [
    "import math\n",
    "print(\"pi is\", math.pi)\n",
    "print(\"cos(pi) is \", math.cos(math.pi))"
   ]
  },
  {
   "cell_type": "code",
   "execution_count": 4,
   "id": "3711315f-d310-4598-95ce-44392c680167",
   "metadata": {},
   "outputs": [],
   "source": [
    "# help(math)"
   ]
  },
  {
   "cell_type": "code",
   "execution_count": 5,
   "id": "df53f490-83e4-46bf-ae05-07d2c598a39b",
   "metadata": {},
   "outputs": [
    {
     "name": "stdout",
     "output_type": "stream",
     "text": [
      "cos(pi) is  -1.0\n"
     ]
    }
   ],
   "source": [
    "from math import cos,pi\n",
    "print(\"cos(pi) is \",cos(pi))"
   ]
  },
  {
   "cell_type": "code",
   "execution_count": 6,
   "id": "b5d8e10c-2ddd-4daf-ade5-558d155329a1",
   "metadata": {},
   "outputs": [
    {
     "name": "stdout",
     "output_type": "stream",
     "text": [
      "cos(pi) is -1.0\n"
     ]
    }
   ],
   "source": [
    "import math as m\n",
    "print(\"cos(pi) is\", m.cos(pi))"
   ]
  },
  {
   "cell_type": "code",
   "execution_count": 9,
   "id": "28aefd54-294b-41e4-9fda-c21273f746f4",
   "metadata": {},
   "outputs": [
    {
     "name": "stdout",
     "output_type": "stream",
     "text": [
      "12.0\n"
     ]
    }
   ],
   "source": [
    "import math as m\n",
    "x =144\n",
    "print (m.sqrt(x))"
   ]
  },
  {
   "cell_type": "code",
   "execution_count": 15,
   "id": "20427af6-a4f7-415f-a7fd-0e8b196b5b4b",
   "metadata": {},
   "outputs": [
    {
     "name": "stdout",
     "output_type": "stream",
     "text": [
      "C\n"
     ]
    }
   ],
   "source": [
    "# IN THIS EXAMPLE YOU HAVE TO GIVE AN EXAMPLE OF THE BASES\n",
    "\n",
    "from random import randrange\n",
    "bases = \"ACTTGCTTGAC\"\n",
    "random_index = randrange(len(bases))\n",
    "print(bases[random_index])"
   ]
  },
  {
   "cell_type": "code",
   "execution_count": 17,
   "id": "e1d8c9b3-b10a-475c-8306-2ea55ffc9dd9",
   "metadata": {},
   "outputs": [
    {
     "name": "stdout",
     "output_type": "stream",
     "text": [
      "G\n"
     ]
    }
   ],
   "source": [
    "from random import sample\n",
    "print(sample(bases, 1)[0])"
   ]
  },
  {
   "cell_type": "code",
   "execution_count": 24,
   "id": "35f6f0fd-c086-4489-97d8-59961fb30666",
   "metadata": {},
   "outputs": [
    {
     "name": "stdout",
     "output_type": "stream",
     "text": [
      "random base A base index 0\n"
     ]
    }
   ],
   "source": [
    "import random\n",
    "import math\n",
    "bases =\"ACTTGCTTGAC\"\n",
    "n_bases = (len(bases))\n",
    "idx = random.randrange(n_bases)\n",
    "print(\"random base\", bases[idx], \"base index\", idx)"
   ]
  },
  {
   "cell_type": "code",
   "execution_count": 36,
   "id": "72e2918e-bbec-43b9-90d2-08e096af6d09",
   "metadata": {},
   "outputs": [
    {
     "name": "stdout",
     "output_type": "stream",
     "text": [
      "45.0\n"
     ]
    }
   ],
   "source": [
    "# use this to explain radians. \n",
    "# a whole circle is 2pi, 1/2 a circle is 1pi, a quarter of a circle is pi/2\n",
    "\n",
    "import math as m\n",
    "angle = m.degrees(m.pi) / 4\n",
    "print(angle)"
   ]
  },
  {
   "cell_type": "code",
   "execution_count": 26,
   "id": "e22dcc8b-55fa-47d8-ac3c-31fc0ecad1c7",
   "metadata": {},
   "outputs": [
    {
     "name": "stdout",
     "output_type": "stream",
     "text": [
      "1.5707963267948966\n"
     ]
    }
   ],
   "source": [
    "print(pi/2)"
   ]
  },
  {
   "cell_type": "code",
   "execution_count": 27,
   "id": "107d59be-ac73-4cbe-973a-8de27ff61f93",
   "metadata": {},
   "outputs": [
    {
     "name": "stdout",
     "output_type": "stream",
     "text": [
      "3.141592653589793\n"
     ]
    }
   ],
   "source": [
    "print(pi)"
   ]
  },
  {
   "cell_type": "code",
   "execution_count": 28,
   "id": "1c172314-a49d-406b-80c7-26c5fc2d6cbd",
   "metadata": {},
   "outputs": [
    {
     "name": "stdout",
     "output_type": "stream",
     "text": [
      "90.0\n"
     ]
    }
   ],
   "source": [
    "angle = m.degrees(1.5707963267948966)\n",
    "print(angle)"
   ]
  },
  {
   "cell_type": "code",
   "execution_count": 38,
   "id": "1f557e9b-f8af-4826-922f-822faf43d0da",
   "metadata": {},
   "outputs": [
    {
     "name": "stdout",
     "output_type": "stream",
     "text": [
      "90.0\n"
     ]
    }
   ],
   "source": [
    "# Importing specific items ... from modules\n",
    "\n",
    "from math import degrees, pi\n",
    "angle = degrees(pi/2)\n",
    "print (angle)"
   ]
  },
  {
   "cell_type": "code",
   "execution_count": null,
   "id": "a39347a4-ecbe-4e9a-ad19-19db47f3dc4a",
   "metadata": {},
   "outputs": [],
   "source": [
    "# Reading Tabular Data into DataFrames\n",
    "\n",
    "\n",
    "import pandas as pd\n",
    "\n",
    "data = pd.read_cvs(\"data"
   ]
  }
 ],
 "metadata": {
  "kernelspec": {
   "display_name": "Python 3 (ipykernel)",
   "language": "python",
   "name": "python3"
  },
  "language_info": {
   "codemirror_mode": {
    "name": "ipython",
    "version": 3
   },
   "file_extension": ".py",
   "mimetype": "text/x-python",
   "name": "python",
   "nbconvert_exporter": "python",
   "pygments_lexer": "ipython3",
   "version": "3.8.10"
  }
 },
 "nbformat": 4,
 "nbformat_minor": 5
}
