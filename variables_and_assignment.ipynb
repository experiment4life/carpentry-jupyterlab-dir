{
 "cells": [
  {
   "cell_type": "code",
   "execution_count": 1,
   "id": "09a7a5ab-e7ac-4b7d-b833-12df36910ce7",
   "metadata": {},
   "outputs": [
    {
     "name": "stdout",
     "output_type": "stream",
     "text": [
      "Chris is 42 years old\n"
     ]
    }
   ],
   "source": [
    "age = 42\n",
    "first_name = \"Chris\"\n",
    "print(first_name, \"is\", age, \"years old\")"
   ]
  },
  {
   "cell_type": "code",
   "execution_count": 2,
   "id": "06c80744-5840-41d7-976c-5355c3bd3097",
   "metadata": {},
   "outputs": [
    {
     "name": "stdout",
     "output_type": "stream",
     "text": [
      "Chris\n"
     ]
    }
   ],
   "source": [
    "last_name = \"Chris\"\n",
    "print(last_name)"
   ]
  },
  {
   "cell_type": "code",
   "execution_count": 3,
   "id": "dcfb3005-ac3a-44a2-852a-303a665d4054",
   "metadata": {},
   "outputs": [
    {
     "ename": "NameError",
     "evalue": "name 'my_values' is not defined",
     "output_type": "error",
     "traceback": [
      "\u001b[0;31m---------------------------------------------------------------------------\u001b[0m",
      "\u001b[0;31mNameError\u001b[0m                                 Traceback (most recent call last)",
      "\u001b[0;32m/tmp/ipykernel_9951/4000590536.py\u001b[0m in \u001b[0;36m<module>\u001b[0;34m\u001b[0m\n\u001b[0;32m----> 1\u001b[0;31m \u001b[0mprint\u001b[0m\u001b[0;34m(\u001b[0m\u001b[0mmy_values\u001b[0m\u001b[0;34m)\u001b[0m\u001b[0;34m\u001b[0m\u001b[0;34m\u001b[0m\u001b[0m\n\u001b[0m",
      "\u001b[0;31mNameError\u001b[0m: name 'my_values' is not defined"
     ]
    }
   ],
   "source": [
    "print(my_values)"
   ]
  },
  {
   "cell_type": "code",
   "execution_count": null,
   "id": "211bd143-d299-437a-a6da-733649c88e9c",
   "metadata": {},
   "outputs": [],
   "source": [
    "my_values = 1"
   ]
  },
  {
   "cell_type": "code",
   "execution_count": null,
   "id": "6b41a634-d2c9-489a-ac50-871deb08000c",
   "metadata": {},
   "outputs": [],
   "source": [
    "age = age + 3"
   ]
  },
  {
   "cell_type": "code",
   "execution_count": null,
   "id": "6ae3826a-7628-462a-a511-6bb9b1eb83f4",
   "metadata": {},
   "outputs": [],
   "source": [
    "print(\"Age in three years is\", age)"
   ]
  },
  {
   "cell_type": "code",
   "execution_count": null,
   "id": "6b51c5b1-185b-480d-9d98-5e93b8085ac1",
   "metadata": {},
   "outputs": [],
   "source": [
    "atom_name = \"helium\"\n",
    "print(atom_name[0])"
   ]
  },
  {
   "cell_type": "code",
   "execution_count": null,
   "id": "fabe99bb-9afc-47a7-89d8-5de43d40f49c",
   "metadata": {},
   "outputs": [],
   "source": [
    "atom_name = \"sodium\"\n",
    "print(atom_name[0:3])"
   ]
  },
  {
   "cell_type": "code",
   "execution_count": null,
   "id": "0ec12462-f27c-4edc-aa9d-f920c6a14043",
   "metadata": {},
   "outputs": [],
   "source": [
    "print(len(\"helium\"))"
   ]
  },
  {
   "cell_type": "code",
   "execution_count": null,
   "id": "037d4674-4864-4b33-83e1-2a57ac7df9b7",
   "metadata": {},
   "outputs": [],
   "source": [
    "flabadab = 42\n",
    "ewr_422yY = \"Ahmed\"\n",
    "print(ewr_422yY, \"is\", flabadab, \"years old\")"
   ]
  },
  {
   "cell_type": "code",
   "execution_count": null,
   "id": "e0d5efe2-3935-4b7e-ae10-7a4927322006",
   "metadata": {},
   "outputs": [],
   "source": [
    "x = 1.8\n",
    "y = 3.0\n",
    "swap = x\n",
    "x = y\n",
    "y = swap\n",
    "print(y)"
   ]
  },
  {
   "cell_type": "code",
   "execution_count": null,
   "id": "a7b1ff4a-6651-4cf1-9115-48922942f20b",
   "metadata": {},
   "outputs": [],
   "source": [
    "initial =\"left\"\n",
    "position = initial\n",
    "initial = \"right\"\n",
    "print(initial)"
   ]
  },
  {
   "cell_type": "code",
   "execution_count": null,
   "id": "fdccdcfd-42f2-4ea6-9ef0-bf78cbe0768e",
   "metadata": {},
   "outputs": [],
   "source": [
    "# as a string\n",
    "a = \"123\"\n",
    "print(a[0:2])"
   ]
  },
  {
   "cell_type": "code",
   "execution_count": null,
   "id": "7881e658-133f-4a5f-931f-a9280092e21f",
   "metadata": {},
   "outputs": [],
   "source": [
    "# as a integer converted to a string with str\n",
    "a = 123\n",
    "b = str(a)\n",
    "print(b[1])"
   ]
  },
  {
   "cell_type": "code",
   "execution_count": null,
   "id": "92edc403-059a-44e8-8d6a-f4bacf8e2d24",
   "metadata": {},
   "outputs": [],
   "source": [
    "atom_name =\"carbon\"\n",
    "print(\"atom_name[1:3] is:\" , atom_name[1:3])"
   ]
  },
  {
   "cell_type": "code",
   "execution_count": null,
   "id": "2832e792-f68d-4790-827a-3327d48d22b2",
   "metadata": {},
   "outputs": [],
   "source": [
    "thing = \"123456\"\n",
    "print(thing[2:15])"
   ]
  },
  {
   "cell_type": "code",
   "execution_count": null,
   "id": "737fb4ae-7cd5-4d20-8535-51d98af3d050",
   "metadata": {},
   "outputs": [],
   "source": [
    "# the type function\n",
    "\n",
    "print(type(52))"
   ]
  },
  {
   "cell_type": "code",
   "execution_count": null,
   "id": "1a742b9e-6f89-4fb3-ae9c-55934b66c17d",
   "metadata": {},
   "outputs": [],
   "source": [
    "fitness = \"average\"\n",
    "print(type(fitness))"
   ]
  },
  {
   "cell_type": "code",
   "execution_count": null,
   "id": "09a703f8-985d-4f83-8a0d-8e92823f9b72",
   "metadata": {},
   "outputs": [],
   "source": [
    "full_name = \"Ahmed\" + \" \" + \"Walsh\"\n",
    "print(full_name)"
   ]
  },
  {
   "cell_type": "code",
   "execution_count": null,
   "id": "48b471c2-2a40-441f-88ec-a5b121bef873",
   "metadata": {},
   "outputs": [],
   "source": [
    "many_times = \"=\" * 10\n",
    "print(many_times)"
   ]
  },
  {
   "cell_type": "code",
   "execution_count": null,
   "id": "553b7278-5bc4-46ef-8256-7d8d0a0026ee",
   "metadata": {},
   "outputs": [],
   "source": [
    "print(len(full_name))"
   ]
  },
  {
   "cell_type": "code",
   "execution_count": null,
   "id": "4977b23b-832f-4578-861b-adbc8838b5ca",
   "metadata": {},
   "outputs": [],
   "source": [
    "print(len(678))"
   ]
  },
  {
   "cell_type": "code",
   "execution_count": null,
   "id": "f98af39d-7520-4b3f-9523-ed5d71007ca4",
   "metadata": {},
   "outputs": [],
   "source": [
    "# to find out what functions belong to a type .. use dir\n",
    "print(dir(int))\n"
   ]
  },
  {
   "cell_type": "code",
   "execution_count": null,
   "id": "a0e9b5cc-50a8-44dc-a998-1207415f44dd",
   "metadata": {},
   "outputs": [],
   "source": [
    "# converting numbers to strings\n",
    "\n",
    "print(1 + int(\"2\"))"
   ]
  },
  {
   "cell_type": "code",
   "execution_count": null,
   "id": "97f57279-3fe7-4350-a76f-7de9b68e58f2",
   "metadata": {},
   "outputs": [],
   "source": [
    "# converting string to int\n",
    "print(str(1) + \"2\")"
   ]
  },
  {
   "cell_type": "code",
   "execution_count": null,
   "id": "ce1045d9-624c-4c57-b166-97937c0d69e5",
   "metadata": {},
   "outputs": [],
   "source": [
    "string_thing = \"123456789\"\n",
    "number = int(string_thing)\n",
    "print(type(number))\n",
    "print(number)"
   ]
  },
  {
   "cell_type": "code",
   "execution_count": null,
   "id": "c5b6b71d-252e-4fe3-8cd2-9ee3de997915",
   "metadata": {},
   "outputs": [],
   "source": [
    "string_float = \"1234.678\"\n",
    "new_thing = float(string_float)\n",
    "print(new_thing)"
   ]
  },
  {
   "cell_type": "code",
   "execution_count": null,
   "id": "b9b29a4b-4109-46d8-9ccd-c45d7853f918",
   "metadata": {},
   "outputs": [],
   "source": [
    "half =  1/2.0\n",
    "print(\"Half of 1 is\",half)\n",
    "print(type(half))"
   ]
  },
  {
   "cell_type": "code",
   "execution_count": null,
   "id": "3b09528e-12a5-4608-89d8-53679d27bcc7",
   "metadata": {},
   "outputs": [],
   "source": [
    "three_squared = 3 ** 2\n",
    "print(three_squared)\n",
    "print(type(three_squared))"
   ]
  },
  {
   "cell_type": "code",
   "execution_count": null,
   "id": "8a81e3fa-0995-4d80-9721-3d87f0396145",
   "metadata": {},
   "outputs": [],
   "source": [
    "print(type(3.4))"
   ]
  },
  {
   "cell_type": "code",
   "execution_count": null,
   "id": "2d807701-e058-466d-b35f-3430fb294d85",
   "metadata": {},
   "outputs": [],
   "source": [
    "# division types\n",
    "# // is integer (whole number division) \"floor division\"\n",
    "# / is floating-point division\n",
    "# % is modulo - the fractional \"remainder\" (what is left over after whole division)\n",
    "\n",
    "print(\"5//3 : is \", 5//3)\n",
    "print(\"5/3 : is \", 5/3)\n",
    "print(\"5%3 : is \", 5%3)"
   ]
  },
  {
   "cell_type": "code",
   "execution_count": null,
   "id": "b31e367d-290f-4fe6-891e-ee5c3cf61f1c",
   "metadata": {},
   "outputs": [],
   "source": [
    "number_of_people_in_a_study = 600\n",
    "number_of_people_per_servey = 42\n",
    "\n",
    "number_of_serveys_required = number_of_people_in_a_study / number_of_people_per_servey\n",
    "if  is_float(number_of_serveys_required)\n",
    "    number_of_serveys_required = number_of_serveys_required + 1\n",
    "print(number_of_serveys_required)\n",
    "\n",
    "\n",
    "\n"
   ]
  },
  {
   "cell_type": "code",
   "execution_count": null,
   "id": "31057129-acb9-4909-95e1-f380e4e638a1",
   "metadata": {},
   "outputs": [],
   "source": [
    "# strings to numbers\n",
    "\n",
    "converted_to_float = float(\"123.456\")\n",
    "print (converted_to_float)\n",
    "print(type(converted_to_float))"
   ]
  },
  {
   "cell_type": "code",
   "execution_count": null,
   "id": "bbf803b9-a3e8-40b3-a479-d75f1220a11f",
   "metadata": {},
   "outputs": [],
   "source": [
    "# int trunkates the value to whole numbers (it does not round up or down)\n",
    "\n",
    "print(\"fractional string to int\", int(123.456))"
   ]
  },
  {
   "cell_type": "code",
   "execution_count": null,
   "id": "79ba8b88-fb6e-4404-a8b2-4470dfb19f96",
   "metadata": {},
   "outputs": [],
   "source": [
    "# two conversions must be explict\n",
    "# int(\"123.456\") wont work \n",
    "# as you are asking it to convert a string to a float, and then to a integer.\n",
    "# so must be two explicit conversions !!! convert to float, then convert to int.\n",
    "\n",
    "int(float(\"123.456\"))"
   ]
  },
  {
   "cell_type": "code",
   "execution_count": null,
   "id": "085fcd15-2d65-49c1-874e-0783aec1505d",
   "metadata": {},
   "outputs": [],
   "source": [
    "first = 1.0\n",
    "second = \"1\"\n",
    "third = \"1.1\"\n",
    "\n",
    "first + float(second)"
   ]
  },
  {
   "cell_type": "code",
   "execution_count": null,
   "id": "6f456328-7623-4688-831c-6bf64dd41434",
   "metadata": {},
   "outputs": [],
   "source": [
    "float(second) + float(third) "
   ]
  },
  {
   "cell_type": "code",
   "execution_count": null,
   "id": "ea76d43d-60d0-491e-9ad6-793e00abe1b8",
   "metadata": {},
   "outputs": [],
   "source": [
    "first + int(third) # two things problem, not explicit"
   ]
  },
  {
   "cell_type": "code",
   "execution_count": null,
   "id": "6fdeed73-6e99-46c6-aff3-d3da3117f6ee",
   "metadata": {},
   "outputs": [],
   "source": [
    "first + int(float(third))"
   ]
  },
  {
   "cell_type": "code",
   "execution_count": null,
   "id": "11c7d404-ed76-4d4f-bf24-ef6f231dcd37",
   "metadata": {},
   "outputs": [],
   "source": [
    "int(first) + int(float(third)) # two thing problem again "
   ]
  },
  {
   "cell_type": "code",
   "execution_count": null,
   "id": "9982861c-f9be-4218-9393-390e5ac775b7",
   "metadata": {},
   "outputs": [],
   "source": [
    "int(float(third)) # this works because the string looks like a float"
   ]
  },
  {
   "cell_type": "code",
   "execution_count": null,
   "id": "ccd037d3-4c2b-46d4-bfcb-79775efacbbf",
   "metadata": {},
   "outputs": [],
   "source": [
    "int(third) # this doesn't work, the value if converted looks like a float , not an int. "
   ]
  },
  {
   "cell_type": "code",
   "execution_count": null,
   "id": "a2084ed1-73d6-449c-8eab-a5cd2a755bff",
   "metadata": {},
   "outputs": [],
   "source": [
    "# complex numbers (with a \"j\" instead of an \"i\")\n",
    "\n",
    "complex = 6 + 2j\n",
    "print(complex.real)\n",
    "print(complex.imag)"
   ]
  },
  {
   "cell_type": "code",
   "execution_count": null,
   "id": "40ec2062-e677-4fc4-8fe1-86476bcaf8b4",
   "metadata": {},
   "outputs": [],
   "source": [
    "# function may take zero or more arguements\n",
    "\n",
    "print(\"before\")\n",
    "print()   # just prints a blank line\n",
    "print(\"after\")"
   ]
  },
  {
   "cell_type": "code",
   "execution_count": null,
   "id": "189a8471-cecf-4338-b624-2032aeffab18",
   "metadata": {},
   "outputs": [],
   "source": [
    "# Rule: Every function call returns something.\n",
    "# even when it looks like nothing happened, it is actually returned \"None\"\n",
    "\n",
    "result = print(\"example\")\n",
    "print(result)"
   ]
  },
  {
   "cell_type": "code",
   "execution_count": null,
   "id": "95486974-38ca-4bea-95f4-373c2fe8ca0a",
   "metadata": {},
   "outputs": [],
   "source": [
    "# built-in functions max, min, round\n",
    "\n",
    "print(max(1,2,3,4,5,6,7,8,9))\n",
    "print()\n",
    "print(min(\"a\",\"A\",\"0\"))"
   ]
  },
  {
   "cell_type": "code",
   "execution_count": null,
   "id": "f2c239e7-141b-429a-b913-af146a9b5c52",
   "metadata": {},
   "outputs": [],
   "source": [
    "print(round(123.4))\n",
    "print(round(123.5))"
   ]
  },
  {
   "cell_type": "code",
   "execution_count": null,
   "id": "cbe1e00b-954a-4ebe-b45c-c36a70ee8bfa",
   "metadata": {},
   "outputs": [],
   "source": [
    "# specify the number of decimal places. here rounding to the second decimal place\n",
    "print(round(123.456,2))"
   ]
  },
  {
   "cell_type": "code",
   "execution_count": null,
   "id": "f070cbd5-d244-4958-aa62-5d5fb786db9d",
   "metadata": {},
   "outputs": [],
   "source": [
    "# functions attached to obhects are called methods\n",
    "my_string = \"Hello world\"\n",
    "print(len(my_string))"
   ]
  },
  {
   "cell_type": "code",
   "execution_count": null,
   "id": "943b73c8-c1f3-453c-91ed-a51d1b6030bd",
   "metadata": {},
   "outputs": [],
   "source": [
    "upper_thing= (my_string.swapcase()) # .swapcase method\n",
    "print(upper_thing)"
   ]
  },
  {
   "cell_type": "code",
   "execution_count": null,
   "id": "6c48b74b-bccd-4877-8b21-caaf21977ead",
   "metadata": {},
   "outputs": [],
   "source": [
    "print(my_string.__len__())     # using an internal dunder method"
   ]
  },
  {
   "cell_type": "code",
   "execution_count": null,
   "id": "81fb0162-67d6-4ece-b98c-1f419e319649",
   "metadata": {},
   "outputs": [],
   "source": [
    "print(my_string.isupper())     # False because of the lower h in  hELLO WORLD"
   ]
  },
  {
   "cell_type": "code",
   "execution_count": null,
   "id": "1c211bfa-dd00-40b9-bee1-10947c11a349",
   "metadata": {},
   "outputs": [],
   "source": [
    "print(my_string.upper())"
   ]
  },
  {
   "cell_type": "code",
   "execution_count": null,
   "id": "99a88192-4023-42fd-a37c-bfb5a6729390",
   "metadata": {},
   "outputs": [],
   "source": [
    "print(my_string.upper().isupper())  # is True because .upper made it all uppercase\n",
    "                                    # before the .issupper() was run"
   ]
  },
  {
   "cell_type": "code",
   "execution_count": null,
   "id": "b623983a-ca2d-409e-98c9-e08841b47cb2",
   "metadata": {},
   "outputs": [],
   "source": [
    "#Getting built-in help \n",
    "\n",
    "help(round)"
   ]
  },
  {
   "cell_type": "code",
   "execution_count": null,
   "id": "fccdbe87-0d12-467d-a5f5-ecf497f04b9d",
   "metadata": {},
   "outputs": [],
   "source": [
    "round?"
   ]
  },
  {
   "cell_type": "code",
   "execution_count": null,
   "id": "c2958bae-a743-457b-b5a8-b4052eca8b58",
   "metadata": {},
   "outputs": [],
   "source": [
    "name = \"feng"
   ]
  },
  {
   "cell_type": "code",
   "execution_count": null,
   "id": "dfdd7512-0161-4496-ae62-cfa420deba13",
   "metadata": {},
   "outputs": [],
   "source": [
    "# same as PEMDAS in math \n",
    "radiance = 1.0\n",
    "radiance = max(2.1, 2.0 + min(radiance, 1.1 * radiance - 0.5))\n",
    "print(radiance)"
   ]
  },
  {
   "cell_type": "code",
   "execution_count": null,
   "id": "17689335-545e-41e1-aed3-0457e2ccbd53",
   "metadata": {},
   "outputs": [],
   "source": [
    "# spot the difference\n",
    "\n",
    "easy_string = \"abc\"\n",
    "print(max(easy_string))\n",
    "rich = \"gold\"\n",
    "poor = \"tin\"\n",
    "print(max(rich,poor))\n",
    "print(max(len(rich), len(poor)))"
   ]
  },
  {
   "cell_type": "code",
   "execution_count": null,
   "id": "9a2be133-953d-4135-bc8a-80fcdeb50dbd",
   "metadata": {},
   "outputs": [],
   "source": [
    "print(min(\"tin\",\"gold\"))"
   ]
  },
  {
   "cell_type": "code",
   "execution_count": null,
   "id": "41c59237-6c03-460c-a454-36db47ac9a24",
   "metadata": {},
   "outputs": [],
   "source": [
    "print(min())"
   ]
  },
  {
   "cell_type": "code",
   "execution_count": null,
   "id": "25872007-cc64-4634-a4d1-2cbab62a1190",
   "metadata": {},
   "outputs": [],
   "source": [
    "print(max())"
   ]
  },
  {
   "cell_type": "code",
   "execution_count": null,
   "id": "c8a19076-163b-4243-90b8-210d3c5ad01f",
   "metadata": {},
   "outputs": [],
   "source": [
    "# the last character in a string\n",
    "string_evaluate = \"name\"\n",
    "print(string_evaluate[-1:])"
   ]
  },
  {
   "cell_type": "code",
   "execution_count": null,
   "id": "8f0431be-7f05-4378-a824-6dca74e82839",
   "metadata": {},
   "outputs": [],
   "source": []
  },
  {
   "cell_type": "code",
   "execution_count": null,
   "id": "b56a3645-459f-48ff-833c-f9d375f8fa64",
   "metadata": {},
   "outputs": [],
   "source": []
  },
  {
   "cell_type": "code",
   "execution_count": null,
   "id": "8a0bbcd8-dfbe-430f-8955-b74a7f4e940c",
   "metadata": {},
   "outputs": [],
   "source": []
  }
 ],
 "metadata": {
  "kernelspec": {
   "display_name": "Python 3 (ipykernel)",
   "language": "python",
   "name": "python3"
  },
  "language_info": {
   "codemirror_mode": {
    "name": "ipython",
    "version": 3
   },
   "file_extension": ".py",
   "mimetype": "text/x-python",
   "name": "python",
   "nbconvert_exporter": "python",
   "pygments_lexer": "ipython3",
   "version": "3.8.10"
  }
 },
 "nbformat": 4,
 "nbformat_minor": 5
}
