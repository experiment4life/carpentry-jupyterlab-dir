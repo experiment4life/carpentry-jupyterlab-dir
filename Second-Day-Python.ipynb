{
 "cells": [
  {
   "cell_type": "code",
   "execution_count": 39,
   "id": "6b51cd80-45a9-4f4f-b98a-af183063158b",
   "metadata": {},
   "outputs": [],
   "source": [
    "# Lists - lists are \"inclusive\" of both start and stop,\n",
    "# here there are five items - from 0 to 4"
   ]
  },
  {
   "cell_type": "code",
   "execution_count": 40,
   "id": "47e12cd3-3144-4ddc-9d4a-a6530acd29b2",
   "metadata": {},
   "outputs": [
    {
     "name": "stdout",
     "output_type": "stream",
     "text": [
      "pressures: [0.273, 0.275, 0.277, 0.275, 0.276]\n",
      "length: 5\n"
     ]
    }
   ],
   "source": [
    "pressures =[0.273,0.275,0.277,0.275,0.276]\n",
    "print(\"pressures:\", pressures)\n",
    "print(\"length:\", len(pressures))"
   ]
  },
  {
   "cell_type": "code",
   "execution_count": 41,
   "id": "e040b118-8ef4-431a-933f-d6d6a813c686",
   "metadata": {},
   "outputs": [],
   "source": [
    "# use an items \"index\" to fetch it from a list"
   ]
  },
  {
   "cell_type": "code",
   "execution_count": 42,
   "id": "69ad8c40-e49f-4c02-8be2-41b27d602073",
   "metadata": {},
   "outputs": [
    {
     "name": "stdout",
     "output_type": "stream",
     "text": [
      "zeroth item of the pressures:  0.273\n"
     ]
    }
   ],
   "source": [
    "# printing out from  poistion 0,1,2,3,4  ... position 5 is outside of range\n",
    "print(\"zeroth item of the pressures: \", pressures[0])"
   ]
  },
  {
   "cell_type": "code",
   "execution_count": 43,
   "id": "492588d4-cf06-470d-a72c-799fb0cfcd1f",
   "metadata": {},
   "outputs": [
    {
     "name": "stdout",
     "output_type": "stream",
     "text": [
      "fourth item of the pressures:  0.276\n"
     ]
    }
   ],
   "source": [
    "print(\"fourth item of the pressures: \", pressures[4])"
   ]
  },
  {
   "cell_type": "code",
   "execution_count": 44,
   "id": "358ac63a-2642-43c4-bff2-3c6dffb8ad60",
   "metadata": {},
   "outputs": [],
   "source": [
    "# List \"values\" can be replaced by assigning new values to them ... \n",
    "# here at position[0]"
   ]
  },
  {
   "cell_type": "code",
   "execution_count": 45,
   "id": "d15221f0-88ea-4efa-8b5b-643e371c9182",
   "metadata": {},
   "outputs": [
    {
     "name": "stdout",
     "output_type": "stream",
     "text": [
      "pressures is now: [0.265, 0.275, 0.277, 0.275, 0.276]\n"
     ]
    }
   ],
   "source": [
    "pressures[0] = 0.265\n",
    "print(\"pressures is now:\" ,pressures)"
   ]
  },
  {
   "cell_type": "code",
   "execution_count": 46,
   "id": "b2f2d50d-6124-4984-9bfa-45ad116c2dfd",
   "metadata": {},
   "outputs": [
    {
     "name": "stdout",
     "output_type": "stream",
     "text": [
      "Primes is initially  [2, 3, 5]\n",
      "Primes has become [2, 3, 5, 7]\n"
     ]
    }
   ],
   "source": [
    "# Appending items to a list, lengthens the list\n",
    "#Note: the list itself has square brackets , but the .append() has parentesis)\n",
    "\n",
    "primes = [2,3,5]\n",
    "print(\"Primes is initially \",primes)\n",
    "primes.append(7)\n",
    "print(\"Primes has become\" ,primes)"
   ]
  },
  {
   "cell_type": "code",
   "execution_count": 47,
   "id": "2a52c501-4d6c-40b4-b9d7-c03faa599ec1",
   "metadata": {},
   "outputs": [],
   "source": [
    "#help(list)    #take off the # to see the help"
   ]
  },
  {
   "cell_type": "code",
   "execution_count": 48,
   "id": "5e741c58-5175-4ccf-a00f-55b94e92fb08",
   "metadata": {},
   "outputs": [
    {
     "name": "stdout",
     "output_type": "stream",
     "text": [
      "teen primes is initially : [11, 13, 17, 19]\n",
      "middle aged primes are : [37, 41, 43, 47]\n"
     ]
    }
   ],
   "source": [
    "teen_primes = [11,13,17,19]\n",
    "print(\"teen primes is initially :\", teen_primes)\n",
    "middle_aged_primes = [37,41,43,47]\n",
    "print(\"middle aged primes are :\" , middle_aged_primes)"
   ]
  },
  {
   "cell_type": "code",
   "execution_count": 49,
   "id": "517743e6-8bcc-4ea8-9cf1-0a9a1e5b16bc",
   "metadata": {},
   "outputs": [
    {
     "name": "stdout",
     "output_type": "stream",
     "text": [
      "primes is now [2, 3, 5, 7, 11, 13, 17, 19]\n"
     ]
    }
   ],
   "source": [
    "# use the # now we can \".extend\" command to extend to original primes \n",
    "# here we are putting all three lists together (primes, teen_primes and middle_aged_primes)\n",
    "\n",
    "primes.extend(teen_primes)\n",
    "print(\"primes is now\", primes)\n"
   ]
  },
  {
   "cell_type": "code",
   "execution_count": 50,
   "id": "6105fedc-bb43-487f-ae60-024fd03ad1bc",
   "metadata": {},
   "outputs": [
    {
     "name": "stdout",
     "output_type": "stream",
     "text": [
      "[2, 3, 5, 7, 11, 13, 17, 19, [37, 41, 43, 47]]\n"
     ]
    }
   ],
   "source": [
    "# We can also use an \".append\" command\n",
    "# this will appended \"the list of middle_aged_prime\" \n",
    "# to the existing list (see the square bracket below - in the list)\n",
    "# is a list appended to a list , where the last item is a list\n",
    "\n",
    "primes.append(middle_aged_primes)\n",
    "print(primes)"
   ]
  },
  {
   "cell_type": "code",
   "execution_count": 51,
   "id": "923453cf-6734-4890-937e-26b5e482c460",
   "metadata": {},
   "outputs": [
    {
     "name": "stdout",
     "output_type": "stream",
     "text": [
      "[2, 3, 5, 7, 9]\n",
      "[2, 3, 5, 7]\n"
     ]
    }
   ],
   "source": [
    "# to delete items from a list use the \"del\" command (and index starts from zero)\n",
    "\n",
    "\n",
    "primes = [2,3,5,7,9]\n",
    "print(primes)\n",
    "\n",
    "del primes[4]\n",
    "\n",
    "print(primes)"
   ]
  },
  {
   "cell_type": "code",
   "execution_count": 54,
   "id": "f1f61dc9-626c-45c6-ba30-1c8fe5fbac96",
   "metadata": {},
   "outputs": [
    {
     "name": "stdout",
     "output_type": "stream",
     "text": [
      "c\n",
      "b\n"
     ]
    }
   ],
   "source": [
    "# Character strings can be indexed like lists\n",
    "\n",
    "\n",
    "element = \"carbon\"\n",
    "print(element[0])\n",
    "print(element[3])"
   ]
  },
  {
   "cell_type": "code",
   "execution_count": 56,
   "id": "afab1510-d1b7-4903-bd72-79d2760b204a",
   "metadata": {},
   "outputs": [
    {
     "name": "stdout",
     "output_type": "stream",
     "text": [
      "carbon\n"
     ]
    },
    {
     "ename": "NameError",
     "evalue": "name 'C' is not defined",
     "output_type": "error",
     "traceback": [
      "\u001b[0;31m---------------------------------------------------------------------------\u001b[0m",
      "\u001b[0;31mNameError\u001b[0m                                 Traceback (most recent call last)",
      "\u001b[0;32m/tmp/ipykernel_7609/2128569158.py\u001b[0m in \u001b[0;36m<module>\u001b[0;34m\u001b[0m\n\u001b[1;32m      1\u001b[0m \u001b[0;31m# Character strings are immutable\u001b[0m\u001b[0;34m\u001b[0m\u001b[0;34m\u001b[0m\u001b[0;34m\u001b[0m\u001b[0m\n\u001b[1;32m      2\u001b[0m \u001b[0mprint\u001b[0m\u001b[0;34m(\u001b[0m\u001b[0melement\u001b[0m\u001b[0;34m)\u001b[0m\u001b[0;34m\u001b[0m\u001b[0;34m\u001b[0m\u001b[0m\n\u001b[0;32m----> 3\u001b[0;31m \u001b[0melement\u001b[0m\u001b[0;34m[\u001b[0m\u001b[0;36m0\u001b[0m\u001b[0;34m]\u001b[0m \u001b[0;34m=\u001b[0m \u001b[0mC\u001b[0m\u001b[0;34m\u001b[0m\u001b[0;34m\u001b[0m\u001b[0m\n\u001b[0m",
      "\u001b[0;31mNameError\u001b[0m: name 'C' is not defined"
     ]
    }
   ],
   "source": [
    "# Character strings are immutable , we can not change a string in-place. \n",
    "print(element)\n",
    "element[0] = C\n"
   ]
  },
  {
   "cell_type": "code",
   "execution_count": 68,
   "id": "1788de35-2676-4f8f-8211-c6078c10859c",
   "metadata": {},
   "outputs": [
    {
     "name": "stdout",
     "output_type": "stream",
     "text": [
      "first time values [1, 2, 5]\n",
      "[2, 5]\n"
     ]
    }
   ],
   "source": [
    "#  Fill in the blanks\n",
    "\n",
    "values = []\n",
    "values.append(1)\n",
    "values.append(2)\n",
    "values.append(5)\n",
    "print(\"first time values\", values)\n",
    "values = values[1:]  # this means we overwrote \n",
    "                     # the original values because we assigned \n",
    "                     # the slice back to the original list\n",
    "print(values)"
   ]
  },
  {
   "cell_type": "code",
   "execution_count": 1,
   "id": "1263ed50-b534-4ac3-9a6b-0d63797e6edd",
   "metadata": {},
   "outputs": [
    {
     "name": "stdout",
     "output_type": "stream",
     "text": [
      "string to list ['t', 'i', 'n']\n"
     ]
    }
   ],
   "source": [
    "# from strings to lists and back\n",
    "\n",
    "print(\"string to list\" , list(\"tin\"))\n"
   ]
  },
  {
   "cell_type": "code",
   "execution_count": 2,
   "id": "129dce71-96ce-465d-8a81-1f85e0b1c953",
   "metadata": {},
   "outputs": [
    {
     "name": "stdout",
     "output_type": "stream",
     "text": [
      "string to list ['t', 'i', 'n']\n",
      "list to string: gold\n"
     ]
    }
   ],
   "source": [
    "print(\"string to list\" , list('tin'))\n",
    "print(\"list to string:\", \"\" .join([\"g\",\"o\",\"l\",\"d\"])) # I can't get the .join to work"
   ]
  },
  {
   "cell_type": "code",
   "execution_count": 84,
   "id": "8a107452-d854-4f21-93f1-ba7192fe8a55",
   "metadata": {},
   "outputs": [
    {
     "name": "stdout",
     "output_type": "stream",
     "text": [
      "[['t', 'i', 'n']]\n",
      "<class 'list'>\n"
     ]
    }
   ],
   "source": [
    "test1=[]\n",
    "test1.append(list(\"tin\"))\n",
    "print(test1)\n",
    "print(type(test1))"
   ]
  },
  {
   "cell_type": "code",
   "execution_count": 86,
   "id": "99943c7d-a641-418f-97bf-43743fca79fa",
   "metadata": {},
   "outputs": [],
   "source": [
    "# dir(list)"
   ]
  },
  {
   "cell_type": "code",
   "execution_count": 88,
   "id": "a6cfb607-7626-40ce-84e4-2bfac780f314",
   "metadata": {},
   "outputs": [
    {
     "ename": "TypeError",
     "evalue": "'builtin_function_or_method' object is not subscriptable",
     "output_type": "error",
     "traceback": [
      "\u001b[0;31m---------------------------------------------------------------------------\u001b[0m",
      "\u001b[0;31mTypeError\u001b[0m                                 Traceback (most recent call last)",
      "\u001b[0;32m/tmp/ipykernel_7609/3279048667.py\u001b[0m in \u001b[0;36m<module>\u001b[0;34m\u001b[0m\n\u001b[0;32m----> 1\u001b[0;31m \u001b[0;34m'-'\u001b[0m\u001b[0;34m.\u001b[0m\u001b[0mjoin\u001b[0m\u001b[0;34m[\u001b[0m\u001b[0;34m\"x\"\u001b[0m\u001b[0;34m,\u001b[0m\u001b[0;34m\"y\"\u001b[0m\u001b[0;34m,\u001b[0m\u001b[0;34m\"z\"\u001b[0m\u001b[0;34m]\u001b[0m\u001b[0;34m\u001b[0m\u001b[0;34m\u001b[0m\u001b[0m\n\u001b[0m",
      "\u001b[0;31mTypeError\u001b[0m: 'builtin_function_or_method' object is not subscriptable"
     ]
    }
   ],
   "source": [
    "'-'.join[\"x\",\"y\",\"z\"]"
   ]
  },
  {
   "cell_type": "code",
   "execution_count": 91,
   "id": "ac492ef5-6884-4ec2-92e3-d668e06401fc",
   "metadata": {},
   "outputs": [
    {
     "name": "stdout",
     "output_type": "stream",
     "text": [
      "um\n",
      "heliu\n"
     ]
    }
   ],
   "source": [
    "# Working with the End\n",
    "\n",
    "element = \"helium\"\n",
    "print(element[-2:])\n",
    "print(element[:-1])"
   ]
  },
  {
   "cell_type": "code",
   "execution_count": 92,
   "id": "1bd6691d-ad2c-4517-9191-ef51c318e7e4",
   "metadata": {},
   "outputs": [
    {
     "name": "stdout",
     "output_type": "stream",
     "text": [
      "fuon\n"
     ]
    }
   ],
   "source": [
    "# Stepping through a list , \"stride\" in this case is 2, so selects every second character\n",
    "\n",
    "element = \"fluroine\"\n",
    "print(element[::2]) # written as \"low:high:stride\" where stride is the \"stepsize\""
   ]
  },
  {
   "cell_type": "code",
   "execution_count": 93,
   "id": "ce766f22-45de-414e-91f1-ed0641e9306c",
   "metadata": {},
   "outputs": [
    {
     "name": "stdout",
     "output_type": "stream",
     "text": [
      "eniorulf\n"
     ]
    }
   ],
   "source": [
    "print(element[::-1])  # the -1 reverses the word "
   ]
  },
  {
   "cell_type": "code",
   "execution_count": 95,
   "id": "c142c683-234b-4e6c-ba10-15946123d8a6",
   "metadata": {},
   "outputs": [
    {
     "name": "stdout",
     "output_type": "stream",
     "text": [
      "lithium\n",
      "\n"
     ]
    }
   ],
   "source": [
    "# Slice Bounds\n",
    "\n",
    "element = \"lithium\"\n",
    "print(element[0:20])\n",
    "print(element[-1:-3])"
   ]
  },
  {
   "cell_type": "code",
   "execution_count": 4,
   "id": "43f13b8a-c926-4efe-a953-277ea927e535",
   "metadata": {},
   "outputs": [
    {
     "name": "stdout",
     "output_type": "stream",
     "text": [
      "2\n",
      "3\n",
      "5\n"
     ]
    }
   ],
   "source": [
    "## For Loops  ********\n",
    "\n",
    "for number in [2,3,5]:\n",
    "    print(number)"
   ]
  },
  {
   "cell_type": "code",
   "execution_count": 101,
   "id": "64472a76-5a6d-4803-b3c7-5e9d2bf76abc",
   "metadata": {},
   "outputs": [
    {
     "name": "stdout",
     "output_type": "stream",
     "text": [
      "2\n",
      "3\n",
      "5\n"
     ]
    }
   ],
   "source": [
    "# Loop variables can be called anything \n",
    "for kitten in [2,3,5]:\n",
    "    print(kitten)"
   ]
  },
  {
   "cell_type": "code",
   "execution_count": 103,
   "id": "ffd2463e-3d74-44e5-999c-12fa0f0a4c7d",
   "metadata": {},
   "outputs": [
    {
     "name": "stdout",
     "output_type": "stream",
     "text": [
      "2 4 8\n",
      "3 9 27\n",
      "5 25 125\n"
     ]
    }
   ],
   "source": [
    "# body of a loop can contain many statements\n",
    "# first column is original, second colum in squared, third colum is cubed\n",
    "\n",
    "primes = [2,3,5]\n",
    "for p in primes:\n",
    "    squared =p ** 2\n",
    "    cubed = p ** 3\n",
    "    print(p,squared,cubed)"
   ]
  },
  {
   "cell_type": "code",
   "execution_count": 5,
   "id": "ca104274-e658-40cd-a047-223d92bf3a07",
   "metadata": {},
   "outputs": [
    {
     "name": "stdout",
     "output_type": "stream",
     "text": [
      "A range is NOT a list, range(0,3)\n",
      "1\n",
      "2\n"
     ]
    }
   ],
   "source": [
    "# A range is NOT a list, it is just \"number generation\"\n",
    "\n",
    "print(\"A range is NOT a list, range(0,3)\")\n",
    "for number in range(1,3):\n",
    "    print(number)\n",
    "    "
   ]
  },
  {
   "cell_type": "code",
   "execution_count": 6,
   "id": "368e17c0-b65c-48d4-accd-ce6abd9e3ee4",
   "metadata": {},
   "outputs": [
    {
     "name": "stdout",
     "output_type": "stream",
     "text": [
      "number is  0\n",
      "total is  1\n",
      "number is  1\n",
      "total is  3\n",
      "number is  2\n",
      "total is  6\n",
      "number is  3\n",
      "total is  10\n",
      "number is  4\n",
      "total is  15\n",
      "number is  5\n",
      "total is  21\n",
      "number is  6\n",
      "total is  28\n",
      "number is  7\n",
      "total is  36\n",
      "number is  8\n",
      "total is  45\n",
      "number is  9\n",
      "total is  55\n"
     ]
    }
   ],
   "source": [
    "# Accululator pattern \n",
    "# initialize total\n",
    "\n",
    "total = 0\n",
    "for number in range(10):           # the range is 0 to 9 , it does not include 10\n",
    "    total = total + (number +1)    # so the + 1 , makes it start at 1, and go to 10\n",
    "    print(\"number is \", number)\n",
    "    print(\"total is \", total)\n",
    "    "
   ]
  },
  {
   "cell_type": "code",
   "execution_count": 7,
   "id": "e0e170ec-ac51-46fb-b37f-3853e26f42eb",
   "metadata": {},
   "outputs": [
    {
     "name": "stdout",
     "output_type": "stream",
     "text": [
      "1\n",
      "2\n",
      "3\n"
     ]
    }
   ],
   "source": [
    "# Tracing Execution \n",
    "# It iterates three time, because there are three characters in word \"tin\"\n",
    "# note total is counting iterations , not outputing characters \n",
    "# for that we would print the variable character\n",
    "total = 0\n",
    "for character in \"tin\":\n",
    "    total = total + 1\n",
    "    print(total)"
   ]
  },
  {
   "cell_type": "code",
   "execution_count": 119,
   "id": "2eb591a3-dc02-49ad-a2df-b2750f12c21d",
   "metadata": {},
   "outputs": [
    {
     "name": "stdout",
     "output_type": "stream",
     "text": [
      "0\n",
      "t\n",
      "it\n",
      "nit\n"
     ]
    }
   ],
   "source": [
    "# Reversing a string . \n",
    "# It is reading in new character, and then + result\n",
    "\n",
    "original = \"tin\"\n",
    "result = \"\"\n",
    "print(len(result))  # so it starts with an empty string\n",
    "for character in original:\n",
    "    result = character + result\n",
    "    print(result)"
   ]
  },
  {
   "cell_type": "code",
   "execution_count": 14,
   "id": "2f77642d-42dd-4312-bf66-69c97e5fcda3",
   "metadata": {},
   "outputs": [
    {
     "name": "stdout",
     "output_type": "stream",
     "text": [
      "red\n",
      "green\n",
      "blue\n",
      "12\n"
     ]
    }
   ],
   "source": [
    "# Practice Accumulating (this is our exercise ... starts here)\n",
    "\n",
    "# Total Length of the strings in the list [\"red',\"green\", \"blue\"] => 12\n",
    "\n",
    "total = 0\n",
    "for word in [\"red\",\"green\",\"blue\"]:\n",
    "    total = total + len(word)\n",
    "    print(word)\n",
    "                \n",
    "print(total)\n"
   ]
  },
  {
   "cell_type": "code",
   "execution_count": 16,
   "id": "8950e4f8-719b-4979-aa57-6f1740634806",
   "metadata": {},
   "outputs": [
    {
     "name": "stdout",
     "output_type": "stream",
     "text": [
      "[3, 5, 4]\n"
     ]
    }
   ],
   "source": [
    "# Total Length of the strings in the list [\"red',\"green\", \"blue\"] => 12\n",
    "\n",
    "lengths = []\n",
    "total =0\n",
    "for word in [\"red\",\"green\",\"blue\"]:\n",
    "    lengths.append(len(word))         # there is no assignment (like above example)\n",
    "print(lengths)                        # we are just appending with \".append()\"\n"
   ]
  },
  {
   "cell_type": "code",
   "execution_count": 10,
   "id": "2ce3fe31-8bde-45fc-bbe8-797852f659aa",
   "metadata": {},
   "outputs": [
    {
     "name": "stdout",
     "output_type": "stream",
     "text": [
      "redgreenblue\n"
     ]
    }
   ],
   "source": [
    "# Concatinate all the words [\"red',\"green\", \"blue\"] => \"redgreenblue\"\n",
    "words = [\"red\",\"green\",\"blue\"]\n",
    "result = \"\"\n",
    "for word in words:\n",
    "    result = result + word\n",
    "print(result)                # print \"result\" not the \"word\"\n"
   ]
  },
  {
   "cell_type": "code",
   "execution_count": 17,
   "id": "56e26e87-0d52-47d8-b711-96f2b55f8d6a",
   "metadata": {},
   "outputs": [
    {
     "name": "stdout",
     "output_type": "stream",
     "text": [
      "RGB\n"
     ]
    }
   ],
   "source": [
    "# Create an acronym from [\"red\",\"green\",\"blue\"]\n",
    "\n",
    "\n",
    "words = [\"red\",\"green\",\"blue\"]\n",
    "acronym = \"\"\n",
    "for word in words:\n",
    "    caps = word[0]\n",
    "    acronym = acronym + caps.capitalize()  # remember the method is \"something.capitalize()\"\n",
    "print (acronym)\n",
    "\n"
   ]
  },
  {
   "cell_type": "code",
   "execution_count": 147,
   "id": "a5054e0d-1163-4355-98d9-b6a72a765d1e",
   "metadata": {},
   "outputs": [],
   "source": [
    "# dir(str)"
   ]
  },
  {
   "cell_type": "code",
   "execution_count": 146,
   "id": "f7508a7d-921b-4024-83bb-197569433238",
   "metadata": {},
   "outputs": [
    {
     "name": "stdout",
     "output_type": "stream",
     "text": [
      "R\n"
     ]
    }
   ],
   "source": [
    "word = \"red\"\n",
    "starts = word[0]\n",
    "caps = starts.capitalize()\n",
    "print(caps)"
   ]
  },
  {
   "cell_type": "code",
   "execution_count": 2,
   "id": "ff2074c1-68b7-4d81-b7b9-496a0e79ef6e",
   "metadata": {},
   "outputs": [
    {
     "name": "stdout",
     "output_type": "stream",
     "text": [
      "[1, 3, 5, 10]\n"
     ]
    }
   ],
   "source": [
    "# Cumulative Sum adds together the individual numbers \n",
    "\n",
    "total = 0\n",
    "data =[1,2,2,5]\n",
    "cumulative =[]\n",
    "for number in data:\n",
    "    total += number\n",
    "    cumulative.append(total)\n",
    "print(cumulative)"
   ]
  },
  {
   "cell_type": "code",
   "execution_count": 3,
   "id": "d584ab96-9bb6-4a36-8b48-43ae0bb0cc99",
   "metadata": {},
   "outputs": [
    {
     "name": "stdout",
     "output_type": "stream",
     "text": [
      "3.54 is large\n",
      "9.22 is large\n"
     ]
    }
   ],
   "source": [
    "# Conditionls are used inside loops\n",
    "\n",
    "masses = [3.54, 2.07, 9.22, 1.86, 1.71]\n",
    "for m in masses:\n",
    "    if m > 3.0:\n",
    "        print(m , \"is large\")\n"
   ]
  },
  {
   "cell_type": "code",
   "execution_count": 4,
   "id": "fe39bfd5-0bae-4ad2-bae1-1a9ab15e4712",
   "metadata": {},
   "outputs": [
    {
     "name": "stdout",
     "output_type": "stream",
     "text": [
      "3.54 is large\n",
      "2.07 is small\n",
      "9.22 is large\n",
      "1.86 is small\n",
      "1.71 is small\n"
     ]
    }
   ],
   "source": [
    "# Use \"else\" to execute a block of code when an if statement is *not* True \n",
    "# i.e. when False\n",
    "\n",
    "masses = [3.54, 2.07, 9.22, 1.86, 1.71]\n",
    "for m in masses:\n",
    "    if m > 3.0:\n",
    "        print(m , \"is large\")\n",
    "    else:\n",
    "        print(m, \"is small\")\n",
    "\n"
   ]
  },
  {
   "cell_type": "code",
   "execution_count": 7,
   "id": "602fb586-31ee-4315-868f-6f7cd93805dc",
   "metadata": {},
   "outputs": [
    {
     "name": "stdout",
     "output_type": "stream",
     "text": [
      "3.54 is large\n",
      "2.07  is small\n",
      "9.22  is HUGE\n",
      "1.86  is small\n",
      "1.71  is small\n"
     ]
    }
   ],
   "source": [
    "# Use elif to specify additional tests\n",
    "# if , elif , else (else has no test)\n",
    "\n",
    "masses = [3.54, 2.07, 9.22, 1.86, 1.71]\n",
    "for m in masses:\n",
    "    if m > 9.0:\n",
    "        print(m, \" is HUGE\")\n",
    "    elif m > 3.0 :\n",
    "        print (m , \"is large\")\n",
    "    else:\n",
    "        print(m , \" is small\")\n",
    "\n",
    "        "
   ]
  },
  {
   "cell_type": "code",
   "execution_count": 18,
   "id": "eefa4270-4803-4793-ab53-e83275092df1",
   "metadata": {},
   "outputs": [
    {
     "name": "stdout",
     "output_type": "stream",
     "text": [
      "data/gapminder_all.csv 142\n",
      "data/gapminder_gdp_africa.csv 52\n"
     ]
    }
   ],
   "source": [
    "# Processing Small Files  Looping over DataSets\n",
    "# it finds two files africa.csv and asia.csv\n",
    "\n",
    "import glob\n",
    "import pandas as pd\n",
    "\n",
    "for filename in glob.glob(\"data/*.csv\"):\n",
    "    contents = pd.read_csv(filename)\n",
    "    if len(contents) > 50:\n",
    "           print(filename, len(contents))"
   ]
  },
  {
   "cell_type": "code",
   "execution_count": 19,
   "id": "24886576-56be-4151-a063-8c725d4e6d1f",
   "metadata": {},
   "outputs": [
    {
     "data": {
      "text/html": [
       "<div>\n",
       "<style scoped>\n",
       "    .dataframe tbody tr th:only-of-type {\n",
       "        vertical-align: middle;\n",
       "    }\n",
       "\n",
       "    .dataframe tbody tr th {\n",
       "        vertical-align: top;\n",
       "    }\n",
       "\n",
       "    .dataframe thead th {\n",
       "        text-align: right;\n",
       "    }\n",
       "</style>\n",
       "<table border=\"1\" class=\"dataframe\">\n",
       "  <thead>\n",
       "    <tr style=\"text-align: right;\">\n",
       "      <th></th>\n",
       "      <th>gdpPercap_1952</th>\n",
       "      <th>gdpPercap_1957</th>\n",
       "      <th>gdpPercap_1962</th>\n",
       "      <th>gdpPercap_1967</th>\n",
       "      <th>gdpPercap_1972</th>\n",
       "      <th>gdpPercap_1977</th>\n",
       "      <th>gdpPercap_1982</th>\n",
       "      <th>gdpPercap_1987</th>\n",
       "      <th>gdpPercap_1992</th>\n",
       "      <th>gdpPercap_1997</th>\n",
       "      <th>...</th>\n",
       "      <th>pop_1962</th>\n",
       "      <th>pop_1967</th>\n",
       "      <th>pop_1972</th>\n",
       "      <th>pop_1977</th>\n",
       "      <th>pop_1982</th>\n",
       "      <th>pop_1987</th>\n",
       "      <th>pop_1992</th>\n",
       "      <th>pop_1997</th>\n",
       "      <th>pop_2002</th>\n",
       "      <th>pop_2007</th>\n",
       "    </tr>\n",
       "  </thead>\n",
       "  <tbody>\n",
       "    <tr>\n",
       "      <th>count</th>\n",
       "      <td>142.000000</td>\n",
       "      <td>142.000000</td>\n",
       "      <td>142.000000</td>\n",
       "      <td>142.000000</td>\n",
       "      <td>142.000000</td>\n",
       "      <td>142.000000</td>\n",
       "      <td>142.000000</td>\n",
       "      <td>142.000000</td>\n",
       "      <td>142.000000</td>\n",
       "      <td>142.000000</td>\n",
       "      <td>...</td>\n",
       "      <td>1.420000e+02</td>\n",
       "      <td>1.420000e+02</td>\n",
       "      <td>1.420000e+02</td>\n",
       "      <td>1.420000e+02</td>\n",
       "      <td>1.420000e+02</td>\n",
       "      <td>1.420000e+02</td>\n",
       "      <td>1.420000e+02</td>\n",
       "      <td>1.420000e+02</td>\n",
       "      <td>1.420000e+02</td>\n",
       "      <td>1.420000e+02</td>\n",
       "    </tr>\n",
       "    <tr>\n",
       "      <th>mean</th>\n",
       "      <td>3725.276046</td>\n",
       "      <td>4299.408345</td>\n",
       "      <td>4725.812342</td>\n",
       "      <td>5483.653047</td>\n",
       "      <td>6770.082815</td>\n",
       "      <td>7313.166421</td>\n",
       "      <td>7518.901673</td>\n",
       "      <td>7900.920218</td>\n",
       "      <td>8158.608521</td>\n",
       "      <td>9090.175363</td>\n",
       "      <td>...</td>\n",
       "      <td>2.042101e+07</td>\n",
       "      <td>2.265830e+07</td>\n",
       "      <td>2.518998e+07</td>\n",
       "      <td>2.767638e+07</td>\n",
       "      <td>3.020730e+07</td>\n",
       "      <td>3.303857e+07</td>\n",
       "      <td>3.599092e+07</td>\n",
       "      <td>3.883947e+07</td>\n",
       "      <td>4.145759e+07</td>\n",
       "      <td>4.402122e+07</td>\n",
       "    </tr>\n",
       "    <tr>\n",
       "      <th>std</th>\n",
       "      <td>9321.064786</td>\n",
       "      <td>9869.662202</td>\n",
       "      <td>8667.362525</td>\n",
       "      <td>8095.315431</td>\n",
       "      <td>10614.383403</td>\n",
       "      <td>8362.489150</td>\n",
       "      <td>7733.845006</td>\n",
       "      <td>8288.281304</td>\n",
       "      <td>9031.846080</td>\n",
       "      <td>10171.493263</td>\n",
       "      <td>...</td>\n",
       "      <td>6.978865e+07</td>\n",
       "      <td>7.837548e+07</td>\n",
       "      <td>8.864682e+07</td>\n",
       "      <td>9.748109e+07</td>\n",
       "      <td>1.050986e+08</td>\n",
       "      <td>1.147562e+08</td>\n",
       "      <td>1.245026e+08</td>\n",
       "      <td>1.334174e+08</td>\n",
       "      <td>1.408483e+08</td>\n",
       "      <td>1.476214e+08</td>\n",
       "    </tr>\n",
       "    <tr>\n",
       "      <th>min</th>\n",
       "      <td>298.846212</td>\n",
       "      <td>335.997115</td>\n",
       "      <td>355.203227</td>\n",
       "      <td>349.000000</td>\n",
       "      <td>357.000000</td>\n",
       "      <td>371.000000</td>\n",
       "      <td>424.000000</td>\n",
       "      <td>385.000000</td>\n",
       "      <td>347.000000</td>\n",
       "      <td>312.188423</td>\n",
       "      <td>...</td>\n",
       "      <td>6.534500e+04</td>\n",
       "      <td>7.078700e+04</td>\n",
       "      <td>7.659500e+04</td>\n",
       "      <td>8.679600e+04</td>\n",
       "      <td>9.859300e+04</td>\n",
       "      <td>1.108120e+05</td>\n",
       "      <td>1.259110e+05</td>\n",
       "      <td>1.456080e+05</td>\n",
       "      <td>1.703720e+05</td>\n",
       "      <td>1.995790e+05</td>\n",
       "    </tr>\n",
       "    <tr>\n",
       "      <th>25%</th>\n",
       "      <td>864.752389</td>\n",
       "      <td>930.540819</td>\n",
       "      <td>1059.149171</td>\n",
       "      <td>1151.245103</td>\n",
       "      <td>1257.193853</td>\n",
       "      <td>1357.257252</td>\n",
       "      <td>1363.338985</td>\n",
       "      <td>1327.469823</td>\n",
       "      <td>1270.660958</td>\n",
       "      <td>1366.837958</td>\n",
       "      <td>...</td>\n",
       "      <td>1.784362e+06</td>\n",
       "      <td>2.034768e+06</td>\n",
       "      <td>2.351192e+06</td>\n",
       "      <td>2.759717e+06</td>\n",
       "      <td>3.006286e+06</td>\n",
       "      <td>3.194990e+06</td>\n",
       "      <td>3.605992e+06</td>\n",
       "      <td>3.770150e+06</td>\n",
       "      <td>4.173506e+06</td>\n",
       "      <td>4.508034e+06</td>\n",
       "    </tr>\n",
       "    <tr>\n",
       "      <th>50%</th>\n",
       "      <td>1968.528344</td>\n",
       "      <td>2173.220291</td>\n",
       "      <td>2335.439533</td>\n",
       "      <td>2678.334740</td>\n",
       "      <td>3339.129407</td>\n",
       "      <td>3798.609244</td>\n",
       "      <td>4216.228428</td>\n",
       "      <td>4280.300366</td>\n",
       "      <td>4386.085502</td>\n",
       "      <td>4781.825478</td>\n",
       "      <td>...</td>\n",
       "      <td>4.686040e+06</td>\n",
       "      <td>5.170176e+06</td>\n",
       "      <td>5.877996e+06</td>\n",
       "      <td>6.404036e+06</td>\n",
       "      <td>7.007320e+06</td>\n",
       "      <td>7.774862e+06</td>\n",
       "      <td>8.688686e+06</td>\n",
       "      <td>9.735064e+06</td>\n",
       "      <td>1.037292e+07</td>\n",
       "      <td>1.051753e+07</td>\n",
       "    </tr>\n",
       "    <tr>\n",
       "      <th>75%</th>\n",
       "      <td>3913.492777</td>\n",
       "      <td>4876.356362</td>\n",
       "      <td>5709.381428</td>\n",
       "      <td>7075.932943</td>\n",
       "      <td>9508.839304</td>\n",
       "      <td>11204.102423</td>\n",
       "      <td>12347.953722</td>\n",
       "      <td>11994.052795</td>\n",
       "      <td>10684.351870</td>\n",
       "      <td>12022.867188</td>\n",
       "      <td>...</td>\n",
       "      <td>1.098008e+07</td>\n",
       "      <td>1.261458e+07</td>\n",
       "      <td>1.467920e+07</td>\n",
       "      <td>1.667023e+07</td>\n",
       "      <td>1.840732e+07</td>\n",
       "      <td>2.094754e+07</td>\n",
       "      <td>2.270538e+07</td>\n",
       "      <td>2.431137e+07</td>\n",
       "      <td>2.654556e+07</td>\n",
       "      <td>3.121004e+07</td>\n",
       "    </tr>\n",
       "    <tr>\n",
       "      <th>max</th>\n",
       "      <td>108382.352900</td>\n",
       "      <td>113523.132900</td>\n",
       "      <td>95458.111760</td>\n",
       "      <td>80894.883260</td>\n",
       "      <td>109347.867000</td>\n",
       "      <td>59265.477140</td>\n",
       "      <td>33693.175250</td>\n",
       "      <td>31540.974800</td>\n",
       "      <td>34932.919590</td>\n",
       "      <td>41283.164330</td>\n",
       "      <td>...</td>\n",
       "      <td>6.657700e+08</td>\n",
       "      <td>7.545500e+08</td>\n",
       "      <td>8.620300e+08</td>\n",
       "      <td>9.434550e+08</td>\n",
       "      <td>1.000281e+09</td>\n",
       "      <td>1.084035e+09</td>\n",
       "      <td>1.164970e+09</td>\n",
       "      <td>1.230075e+09</td>\n",
       "      <td>1.280400e+09</td>\n",
       "      <td>1.318683e+09</td>\n",
       "    </tr>\n",
       "  </tbody>\n",
       "</table>\n",
       "<p>8 rows × 36 columns</p>\n",
       "</div>"
      ],
      "text/plain": [
       "       gdpPercap_1952  gdpPercap_1957  gdpPercap_1962  gdpPercap_1967  \\\n",
       "count      142.000000      142.000000      142.000000      142.000000   \n",
       "mean      3725.276046     4299.408345     4725.812342     5483.653047   \n",
       "std       9321.064786     9869.662202     8667.362525     8095.315431   \n",
       "min        298.846212      335.997115      355.203227      349.000000   \n",
       "25%        864.752389      930.540819     1059.149171     1151.245103   \n",
       "50%       1968.528344     2173.220291     2335.439533     2678.334740   \n",
       "75%       3913.492777     4876.356362     5709.381428     7075.932943   \n",
       "max     108382.352900   113523.132900    95458.111760    80894.883260   \n",
       "\n",
       "       gdpPercap_1972  gdpPercap_1977  gdpPercap_1982  gdpPercap_1987  \\\n",
       "count      142.000000      142.000000      142.000000      142.000000   \n",
       "mean      6770.082815     7313.166421     7518.901673     7900.920218   \n",
       "std      10614.383403     8362.489150     7733.845006     8288.281304   \n",
       "min        357.000000      371.000000      424.000000      385.000000   \n",
       "25%       1257.193853     1357.257252     1363.338985     1327.469823   \n",
       "50%       3339.129407     3798.609244     4216.228428     4280.300366   \n",
       "75%       9508.839304    11204.102423    12347.953722    11994.052795   \n",
       "max     109347.867000    59265.477140    33693.175250    31540.974800   \n",
       "\n",
       "       gdpPercap_1992  gdpPercap_1997  ...      pop_1962      pop_1967  \\\n",
       "count      142.000000      142.000000  ...  1.420000e+02  1.420000e+02   \n",
       "mean      8158.608521     9090.175363  ...  2.042101e+07  2.265830e+07   \n",
       "std       9031.846080    10171.493263  ...  6.978865e+07  7.837548e+07   \n",
       "min        347.000000      312.188423  ...  6.534500e+04  7.078700e+04   \n",
       "25%       1270.660958     1366.837958  ...  1.784362e+06  2.034768e+06   \n",
       "50%       4386.085502     4781.825478  ...  4.686040e+06  5.170176e+06   \n",
       "75%      10684.351870    12022.867188  ...  1.098008e+07  1.261458e+07   \n",
       "max      34932.919590    41283.164330  ...  6.657700e+08  7.545500e+08   \n",
       "\n",
       "           pop_1972      pop_1977      pop_1982      pop_1987      pop_1992  \\\n",
       "count  1.420000e+02  1.420000e+02  1.420000e+02  1.420000e+02  1.420000e+02   \n",
       "mean   2.518998e+07  2.767638e+07  3.020730e+07  3.303857e+07  3.599092e+07   \n",
       "std    8.864682e+07  9.748109e+07  1.050986e+08  1.147562e+08  1.245026e+08   \n",
       "min    7.659500e+04  8.679600e+04  9.859300e+04  1.108120e+05  1.259110e+05   \n",
       "25%    2.351192e+06  2.759717e+06  3.006286e+06  3.194990e+06  3.605992e+06   \n",
       "50%    5.877996e+06  6.404036e+06  7.007320e+06  7.774862e+06  8.688686e+06   \n",
       "75%    1.467920e+07  1.667023e+07  1.840732e+07  2.094754e+07  2.270538e+07   \n",
       "max    8.620300e+08  9.434550e+08  1.000281e+09  1.084035e+09  1.164970e+09   \n",
       "\n",
       "           pop_1997      pop_2002      pop_2007  \n",
       "count  1.420000e+02  1.420000e+02  1.420000e+02  \n",
       "mean   3.883947e+07  4.145759e+07  4.402122e+07  \n",
       "std    1.334174e+08  1.408483e+08  1.476214e+08  \n",
       "min    1.456080e+05  1.703720e+05  1.995790e+05  \n",
       "25%    3.770150e+06  4.173506e+06  4.508034e+06  \n",
       "50%    9.735064e+06  1.037292e+07  1.051753e+07  \n",
       "75%    2.431137e+07  2.654556e+07  3.121004e+07  \n",
       "max    1.230075e+09  1.280400e+09  1.318683e+09  \n",
       "\n",
       "[8 rows x 36 columns]"
      ]
     },
     "execution_count": 19,
     "metadata": {},
     "output_type": "execute_result"
    }
   ],
   "source": [
    "data = pd.read_csv(\"data/gapminder_all.csv\")\n",
    "data.describe()"
   ]
  },
  {
   "cell_type": "code",
   "execution_count": 17,
   "id": "88b5d734-3eb7-4c85-a401-d5bca1f559a0",
   "metadata": {},
   "outputs": [],
   "source": [
    "# Using Functions, with conditionals, in Pandas\n",
    "\n",
    "def calculate_life_quartile(exp):\n",
    "    if exp < 58.41:\n",
    "        return 1\n",
    "    elif exp > 58.41 and exp < 67.05:\n",
    "        return 2\n",
    "    elif exp > 67.05 and exp < 71.70:\n",
    "        return 3\n",
    "    elif exp > 71.70:\n",
    "        return 4\n",
    "    else:\n",
    "        return None\n",
    "\n",
    "\n",
    "data = pd.read_csv(\"data/gapminder_all.csv\")\n",
    "data[\"life_qrtl\"] = data[\"lifeExp_1952\"].apply(calculate_life_quartile)\n"
   ]
  },
  {
   "cell_type": "code",
   "execution_count": 28,
   "id": "4102761d-eb14-4a8e-983a-d88579169fe4",
   "metadata": {},
   "outputs": [
    {
     "name": "stderr",
     "output_type": "stream",
     "text": [
      "/tmp/ipykernel_3063/550730878.py:8: FutureWarning: Dropping of nuisance columns in DataFrame reductions (with 'numeric_only=None') is deprecated; in a future version this will raise TypeError.  Select only valid columns before calling the reduction.\n",
      "  data.mean().plot()\n",
      "/tmp/ipykernel_3063/550730878.py:8: FutureWarning: Dropping of nuisance columns in DataFrame reductions (with 'numeric_only=None') is deprecated; in a future version this will raise TypeError.  Select only valid columns before calling the reduction.\n",
      "  data.mean().plot()\n",
      "/tmp/ipykernel_3063/550730878.py:8: FutureWarning: Dropping of nuisance columns in DataFrame reductions (with 'numeric_only=None') is deprecated; in a future version this will raise TypeError.  Select only valid columns before calling the reduction.\n",
      "  data.mean().plot()\n",
      "/tmp/ipykernel_3063/550730878.py:8: FutureWarning: Dropping of nuisance columns in DataFrame reductions (with 'numeric_only=None') is deprecated; in a future version this will raise TypeError.  Select only valid columns before calling the reduction.\n",
      "  data.mean().plot()\n",
      "/tmp/ipykernel_3063/550730878.py:8: FutureWarning: Dropping of nuisance columns in DataFrame reductions (with 'numeric_only=None') is deprecated; in a future version this will raise TypeError.  Select only valid columns before calling the reduction.\n",
      "  data.mean().plot()\n"
     ]
    },
    {
     "data": {
      "image/png": "[encoded data removed]",
      "text/plain": [
       "<Figure size 432x288 with 1 Axes>"
      ]
     },
     "metadata": {
      "needs_background": "light"
     },
     "output_type": "display_data"
    }
   ],
   "source": [
    "import glob\n",
    "import pandas as pd\n",
    "import matplotlib.pyplot as plt\n",
    "\n",
    "for filename in glob.glob('data/gapminder_gdp*.csv'):\n",
    "    data = pd.read_csv(filename)\n",
    "    region = filename.split('_')[-1][:-4]\n",
    "    data.mean().plot()\n",
    "plt.legend()\n",
    "plt.xlabel('Year')\n",
    "plt.ylabel(\"Mean GDP per Capita\")\n",
    "plt.xticks(rotation=90)\n",
    "plt.show()"
   ]
  },
  {
   "cell_type": "code",
   "execution_count": null,
   "id": "48c8deb9-398d-4f8f-bb11-4ba211b5cd83",
   "metadata": {},
   "outputs": [],
   "source": []
  },
  {
   "cell_type": "code",
   "execution_count": null,
   "id": "dc4d0dc3-b7a7-4f14-9913-9d86a2dea6a8",
   "metadata": {},
   "outputs": [],
   "source": []
  }
 ],
 "metadata": {
  "kernelspec": {
   "display_name": "Python 3 (ipykernel)",
   "language": "python",
   "name": "python3"
  },
  "language_info": {
   "codemirror_mode": {
    "name": "ipython",
    "version": 3
   },
   "file_extension": ".py",
   "mimetype": "text/x-python",
   "name": "python",
   "nbconvert_exporter": "python",
   "pygments_lexer": "ipython3",
   "version": "3.8.10"
  }
 },
 "nbformat": 4,
 "nbformat_minor": 5
}
