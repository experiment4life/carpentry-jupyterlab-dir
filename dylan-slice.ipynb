{
 "cells": [
  {
   "cell_type": "code",
   "execution_count": 1,
   "id": "bdfacdda-c6e8-42f6-a2d3-48f4c1e2d8d4",
   "metadata": {},
   "outputs": [
    {
     "name": "stdout",
     "output_type": "stream",
     "text": [
      "5\n"
     ]
    }
   ],
   "source": [
    "my_data = [1,2,3,4,5,6,7,8,9,0]\n",
    "where= my_data.index(6)\n",
    "print(where)"
   ]
  },
  {
   "cell_type": "code",
   "execution_count": 3,
   "id": "866c9722-7796-4854-bb31-4e201b491ae8",
   "metadata": {},
   "outputs": [
    {
     "name": "stdout",
     "output_type": "stream",
     "text": [
      "[1, 2, 3, 4]\n"
     ]
    }
   ],
   "source": [
    "my_data_slice = my_data[0:4]\n",
    "print(my_data_slice)"
   ]
  },
  {
   "cell_type": "code",
   "execution_count": null,
   "id": "cb93f718-2a97-479b-b611-b199d5de04e7",
   "metadata": {},
   "outputs": [],
   "source": []
  }
 ],
 "metadata": {
  "kernelspec": {
   "display_name": "Python 3 (ipykernel)",
   "language": "python",
   "name": "python3"
  },
  "language_info": {
   "codemirror_mode": {
    "name": "ipython",
    "version": 3
   },
   "file_extension": ".py",
   "mimetype": "text/x-python",
   "name": "python",
   "nbconvert_exporter": "python",
   "pygments_lexer": "ipython3",
   "version": "3.8.10"
  }
 },
 "nbformat": 4,
 "nbformat_minor": 5
}
